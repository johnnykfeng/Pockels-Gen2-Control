{
 "cells": [
  {
   "cell_type": "code",
   "execution_count": 9,
   "metadata": {},
   "outputs": [
    {
     "name": "stdout",
     "output_type": "stream",
     "text": [
      "Xenics Xeneth API Example: Capture a frame and save it as a binary file\n",
      "Open camera cam://0\n",
      "Camera is not initialized\n"
     ]
    }
   ],
   "source": [
    "### This script does not work in jupyter notebook, it must be run in a python script\n",
    "\n",
    "# from xenics.xeneth import *\n",
    "from xenics.xeneth import XGetFrameFlags, XCamera\n",
    "from xenics.xeneth.errors import XenethAPIException\n",
    "\n",
    "print(\"Xenics Xeneth API Example: Capture a frame and save it as a binary file\")\n",
    "\n",
    "def save_as_bin(data, file_path):\n",
    "    with open(file_path, 'wb') as f:\n",
    "        f.write(data)\n",
    "\n",
    "url = \"cam://0\"\n",
    "cam = XCamera() # Create a camera object\n",
    "try:\n",
    "    print(f\"Open camera {url}\")\n",
    "    cam.open(url)\n",
    "    buffer = cam.create_buffer() # Create a buffer object\n",
    "    if cam.is_initialized:\n",
    "        print(\"Start capturing\")\n",
    "        cam.start_capture()\n",
    "\n",
    "        if cam.get_frame(buffer, flags=XGetFrameFlags.XGF_Blocking):\n",
    "            print(\"Frame captured\")\n",
    "            save_as_bin(buffer.image_data, r\"CAMERA_IMAGES\\\\test_image.bin\")\n",
    "    \n",
    "    else:\n",
    "        print(\"Camera is not initialized\")\n",
    "\n",
    "except XenethAPIException as e:\n",
    "    print(f\"Error: {e.message}\")\n",
    "finally:\n",
    "    if cam.is_capturing:\n",
    "        try:\n",
    "            print(\"Stop capturing\")\n",
    "            cam.stop_capture()\n",
    "\n",
    "            print(\"Close Camera\")\n",
    "            cam.close()\n",
    "        \n",
    "        except XenethAPIException as e:\n",
    "            print(f\"Error: {e.message}\")"
   ]
  },
  {
   "cell_type": "code",
   "execution_count": 1,
   "metadata": {},
   "outputs": [
    {
     "ename": "ModuleNotFoundError",
     "evalue": "No module named 'plotly'",
     "output_type": "error",
     "traceback": [
      "\u001b[1;31m---------------------------------------------------------------------------\u001b[0m",
      "\u001b[1;31mModuleNotFoundError\u001b[0m                       Traceback (most recent call last)",
      "Cell \u001b[1;32mIn[1], line 3\u001b[0m\n\u001b[0;32m      1\u001b[0m \u001b[38;5;28;01mimport\u001b[39;00m \u001b[38;5;21;01mnumpy\u001b[39;00m \u001b[38;5;28;01mas\u001b[39;00m \u001b[38;5;21;01mnp\u001b[39;00m\n\u001b[0;32m      2\u001b[0m \u001b[38;5;28;01mimport\u001b[39;00m \u001b[38;5;21;01mmatplotlib\u001b[39;00m\u001b[38;5;21;01m.\u001b[39;00m\u001b[38;5;21;01mpyplot\u001b[39;00m \u001b[38;5;28;01mas\u001b[39;00m \u001b[38;5;21;01mplt\u001b[39;00m\n\u001b[1;32m----> 3\u001b[0m \u001b[38;5;28;01mimport\u001b[39;00m \u001b[38;5;21;01mplotly\u001b[39;00m\u001b[38;5;21;01m.\u001b[39;00m\u001b[38;5;21;01mexpress\u001b[39;00m \u001b[38;5;28;01mas\u001b[39;00m \u001b[38;5;21;01mpx\u001b[39;00m\n\u001b[0;32m      5\u001b[0m \u001b[38;5;28;01mdef\u001b[39;00m \u001b[38;5;21mprocess_bin_image\u001b[39m(file_path, width, height, vmin\u001b[38;5;241m=\u001b[39m\u001b[38;5;28;01mNone\u001b[39;00m, vmax\u001b[38;5;241m=\u001b[39m\u001b[38;5;28;01mNone\u001b[39;00m):\n\u001b[0;32m      6\u001b[0m     \u001b[38;5;66;03m# Calculate the size of the image in bytes (1 channel means 2 bytes per pixel for uint16)\u001b[39;00m\n\u001b[0;32m      7\u001b[0m     image_size \u001b[38;5;241m=\u001b[39m width \u001b[38;5;241m*\u001b[39m height \u001b[38;5;241m*\u001b[39m \u001b[38;5;241m2\u001b[39m  \u001b[38;5;66;03m# 2 bytes for uint16\u001b[39;00m\n",
      "\u001b[1;31mModuleNotFoundError\u001b[0m: No module named 'plotly'"
     ]
    }
   ],
   "source": [
    "import numpy as np\n",
    "import matplotlib.pyplot as plt\n",
    "import plotly.express as px\n",
    "\n",
    "def process_bin_image(file_path, width, height, vmin=None, vmax=None):\n",
    "    # Calculate the size of the image in bytes (1 channel means 2 bytes per pixel for uint16)\n",
    "    image_size = width * height * 2  # 2 bytes for uint16\n",
    "\n",
    "    # Read the binary data from the .bin file\n",
    "    with open(file_path, 'rb') as f:\n",
    "        binary_data = f.read(image_size)\n",
    "\n",
    "    # Convert the binary data to a NumPy array of type uint16\n",
    "    image_array = np.frombuffer(binary_data, dtype=np.uint16)\n",
    "\n",
    "    # Reshape the array to the correct dimensions (height, width)\n",
    "    image_array = image_array.reshape((height, width))\n",
    "\n",
    "    # Determine vmin and vmax for normalization\n",
    "    if vmin is None:\n",
    "        vmin = np.min(image_array)\n",
    "    if vmax is None:\n",
    "        vmax = np.max(image_array)\n",
    "\n",
    "    # Create a Plotly figure\n",
    "    fig = px.imshow(image_array, color_continuous_scale='Viridis',\n",
    "                    zmin=vmin, zmax=vmax)\n",
    "\n",
    "    # Update layout for better visualization\n",
    "    fig.update_layout(title='Xenics Camera Raw Image',\n",
    "                      xaxis_title='X [pixels]',\n",
    "                      yaxis_title='Y [pixels]',\n",
    "                      coloraxis_colorbar=dict(title='Intensity'))\n",
    "    \n",
    "    fig.show()\n",
    "\n",
    "# file_path = r\"C:\\Users\\10552\\OneDrive - Redlen Technologies\\Code\\Xeneth Python Example\\SAMPLE_DATA\\test_im2.bin\"\n",
    "# file_path = r\"C:\\Users\\10552\\OneDrive - Redlen Technologies\\Code\\Xeneth Python Example\\basic_sample.bin\"\n",
    "file_path = r\"CAMERA_IMAGES\\\\test_image3.bin\"\n",
    "# Example usage with manual color scale adjustment\n",
    "process_bin_image(file_path, width=640, height=512,\n",
    "                  vmin=1.2e4, vmax=2.5e4)"
   ]
  }
 ],
 "metadata": {
  "kernelspec": {
   "display_name": "Python 3",
   "language": "python",
   "name": "python3"
  },
  "language_info": {
   "codemirror_mode": {
    "name": "ipython",
    "version": 3
   },
   "file_extension": ".py",
   "mimetype": "text/x-python",
   "name": "python",
   "nbconvert_exporter": "python",
   "pygments_lexer": "ipython3",
   "version": "3.11.6"
  }
 },
 "nbformat": 4,
 "nbformat_minor": 2
}
