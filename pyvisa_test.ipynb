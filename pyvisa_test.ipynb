{
 "cells": [
  {
   "cell_type": "code",
   "execution_count": 1,
   "metadata": {},
   "outputs": [
    {
     "name": "stdout",
     "output_type": "stream",
     "text": [
      "('USB0::0x05E6::0x2470::04625649::INSTR', 'ASRL3::INSTR', 'ASRL4::INSTR', 'ASRL5::INSTR', 'ASRL7::INSTR', 'ASRL8::INSTR')\n"
     ]
    }
   ],
   "source": [
    "import pyvisa\n",
    "import numpy as np\n",
    "import time\n",
    "rm = pyvisa.ResourceManager()\n",
    "print(rm.list_resources())\n"
   ]
  },
  {
   "cell_type": "code",
   "execution_count": 2,
   "metadata": {},
   "outputs": [],
   "source": [
    "class Keithley2470:\n",
    "    class_verbose = True\n",
    "    def __init__(self, address, timeout=20000):\n",
    "        self.address = address\n",
    "        self.instrument = rm.open_resource(self.address)\n",
    "        self.instrument.timeout = timeout\n",
    "        self.instrument.read_termination = '\\n'\n",
    "        self.instrument.write_termination = '\\n'\n",
    "\n",
    "\n",
    "    ## METHODS ##\n",
    "    def reset(self):\n",
    "        print(\"Resetting the instrument\")\n",
    "        self.instrument.write(\"*RST;:STAT:PRES;:*CLS;\")\n",
    "\n",
    "    def beep(self, frequency, duration):\n",
    "        print(f\"Beeping at {frequency} Hz for {duration} seconds\")\n",
    "        self.instrument.write(f\":SYST:BEEP {frequency:g}, {duration:g}\")\n",
    "\n",
    "    def use_front_terminals(self):\n",
    "        print(\"Using front terminals\")\n",
    "        self.instrument.write(\":ROUT:TERM FRON\")\n",
    "\n",
    "    def use_rear_terminals(self):\n",
    "        print(\"Using rear terminals\")\n",
    "        self.instrument.write(\":ROUT:TERM REAR\")\n",
    "\n",
    "    def get_idn(self):\n",
    "        return self.instrument.query(\"*IDN?\")\n",
    "\n",
    "    def write(self, command: str, verbose=class_verbose) -> None:\n",
    "        self.instrument.write(command)\n",
    "        if verbose:\n",
    "            print(f\"Sent: {command}\")\n",
    "\n",
    "    def query(self, command: str, verbose = class_verbose) -> str:\n",
    "        if verbose:\n",
    "            print(f\"Query: {command}\")\n",
    "        return self.instrument.query(command)\n",
    "\n",
    "    def disconnect(self) -> None:\n",
    "        self.instrument.close()\n"
   ]
  },
  {
   "cell_type": "code",
   "execution_count": 9,
   "metadata": {},
   "outputs": [
    {
     "name": "stdout",
     "output_type": "stream",
     "text": [
      "Resetting the instrument\n",
      "Sent: \n",
      ":SYST:BEEP 500, 0.5\n",
      ":SYST:BEEP 625.0, 0.5\n",
      ":SYST:BEEP 750.0, 0.5\n",
      "\n"
     ]
    },
    {
     "name": "stderr",
     "output_type": "stream",
     "text": [
      "C:\\Users\\10552\\AppData\\Local\\Temp\\ipykernel_23832\\3897023936.py:32: UserWarning: write message already ends with termination characters\n",
      "  self.instrument.write(command)\n"
     ]
    }
   ],
   "source": [
    "# Testing multiple commands\n",
    "KEITHLEY_2470_ADDRESS = 'USB0::0x05E6::0x2470::04625649::INSTR'\n",
    "keithley = Keithley2470(KEITHLEY_2470_ADDRESS)\n",
    "\n",
    "keithley.reset() # Reset the instrument\n",
    "base_freq = 500\n",
    "triad_command = f\"\"\"\n",
    ":SYST:BEEP {base_freq}, 0.5\n",
    ":SYST:BEEP {base_freq*5.0/4.0}, 0.5\n",
    ":SYST:BEEP {base_freq*6.0/4.0}, 0.5\n",
    "\"\"\"\n",
    "keithley.write(triad_command) # Beep twice"
   ]
  },
  {
   "cell_type": "code",
   "execution_count": 24,
   "metadata": {},
   "outputs": [
    {
     "name": "stdout",
     "output_type": "stream",
     "text": [
      "Resetting the instrument\n",
      "Beeping at 500 Hz for 0.5 seconds\n",
      "Connected to: KEITHLEY INSTRUMENTS,MODEL 2470,04625649,1.7.14j\n",
      "Using front terminals\n",
      "[-1.  -0.5  0.   0.5  1.   1.5  1.6  1.7  1.8  1.9  2.   2.1]\n",
      "Voltage: -1.0 V\n",
      "Output: -0.00 mA\n",
      "Beeping at 300 Hz for 0.5 seconds\n",
      "Voltage: -0.5 V\n",
      "Output: -0.00 mA\n",
      "Beeping at 320 Hz for 0.5 seconds\n",
      "Voltage: 0.0 V\n",
      "Output: -0.00 mA\n",
      "Beeping at 340 Hz for 0.5 seconds\n",
      "Voltage: 0.5 V\n",
      "Output: -0.00 mA\n",
      "Beeping at 360 Hz for 0.5 seconds\n",
      "Voltage: 1.0 V\n",
      "Output: -0.00 mA\n",
      "Beeping at 380 Hz for 0.5 seconds\n",
      "Voltage: 1.5 V\n",
      "Output: 0.01 mA\n",
      "Beeping at 400 Hz for 0.5 seconds\n",
      "Voltage: 1.6 V\n",
      "Output: 0.11 mA\n",
      "Beeping at 420 Hz for 0.5 seconds\n",
      "Voltage: 1.7000000000000002 V\n",
      "Output: 1.22 mA\n",
      "Beeping at 440 Hz for 0.5 seconds\n",
      "Voltage: 1.8000000000000003 V\n",
      "Output: 5.60 mA\n",
      "Beeping at 460 Hz for 0.5 seconds\n",
      "Voltage: 1.9000000000000004 V\n",
      "Output: 13.07 mA\n",
      "Beeping at 480 Hz for 0.5 seconds\n",
      "Voltage: 2.0000000000000004 V\n",
      "Output: 22.26 mA\n",
      "Beeping at 500 Hz for 0.5 seconds\n",
      "Voltage: 2.1000000000000005 V\n",
      "Output: 32.84 mA\n",
      "Beeping at 520 Hz for 0.5 seconds\n"
     ]
    }
   ],
   "source": [
    "KEITHLEY_2470_ADDRESS = 'USB0::0x05E6::0x2470::04625649::INSTR'\n",
    "keithley = Keithley2470(KEITHLEY_2470_ADDRESS)\n",
    "keithley.reset()\n",
    "keithley.beep(500, 0.5)\n",
    "idn = keithley.get_idn()\n",
    "print(f\"Connected to: {idn}\")\n",
    "\n",
    "keithley.use_front_terminals()\n",
    "keithley.write(\":SOUR:FUNC VOLT\")\n",
    "keithley.write(\":SENSE:FUNC 'CURR'\")\n",
    "keithley.write(\":SOUR:VOLT:ILIMIT 0.1\")\n",
    "keithley.write(\":CURR:RANGE:AUTO ON\")\n",
    "keithley.write(\":SENS:CURR:NPLC 1\")\n",
    "\n",
    "Voltages = np.arange(-1.0, 1.5, 0.5)\n",
    "Voltages_b = np.arange(1.5, 2.1, 0.1)\n",
    "Voltages = np.concatenate((Voltages, Voltages_b))\n",
    "Currents = np.ones(len(Voltages))\n",
    "print(Voltages)\n",
    "for i, voltage in enumerate(Voltages):\n",
    "    keithley.write(\":SOUR:VOLT {}\".format(voltage))\n",
    "    keithley.write(\":OUTP ON\")\n",
    "    output = keithley.query(\":READ?\")\n",
    "    output = float(output)\n",
    "    Currents[i] = output\n",
    "    print(f\"Voltage: {voltage} V\")\n",
    "    print(f\"Output: {output*1e3:.2f} mA\")\n",
    "    time.sleep(0.5)\n",
    "    keithley.beep(300+i*20, 0.5)\n",
    "    # keithley.write(\":OUTP OFF\")\n",
    "    # time.sleep(0.5)\n",
    "\n",
    "keithley.write(\":OUTP OFF\")\n",
    "keithley.disconnect()\n"
   ]
  },
  {
   "cell_type": "code",
   "execution_count": 25,
   "metadata": {},
   "outputs": [
    {
     "data": {
      "image/png": "[encoded data removed]",
      "text/plain": [
       "<Figure size 640x480 with 1 Axes>"
      ]
     },
     "metadata": {},
     "output_type": "display_data"
    }
   ],
   "source": [
    "import matplotlib.pyplot as plt\n",
    "# plt.plot(Voltages*(-1.0), Currents*(-1.0), '-o')\n",
    "plt.plot(Voltages, Currents, '-o')\n",
    "plt.xlabel('Voltage (V)')\n",
    "plt.ylabel('Current (mA)')\n",
    "plt.title('I-V Curve')\n",
    "plt.grid()\n",
    "plt.show()"
   ]
  },
  {
   "cell_type": "code",
   "execution_count": 8,
   "metadata": {},
   "outputs": [
    {
     "name": "stdout",
     "output_type": "stream",
     "text": [
      "Resetting the instrument\n",
      "Beeping at 500 Hz for 0.5 seconds\n",
      "Query: *IDN?\n",
      "Using front terminals\n",
      "Sent: :SOURce:FUNC VOLT\n",
      "Sent: :SENSe:FUNC 'CURR'\n",
      "Sent: :CURRent:RANGE 0.5\n",
      "Sent: :SOURce:VOLT:ILIMIT 0.5\n",
      "Sent: :SENSe:CURRent:NPLC 3\n",
      "[-1.  -0.5  0.   0.5  1.   1.5  1.6  1.7  1.8  1.9  2.   2.1]\n",
      "Sent: :SOURce:VOLT -1.0\n",
      "Sent: :OUTP ON\n",
      "Query: :READ?\n",
      "Beeping at 300 Hz for 0.5 seconds\n",
      "Sent: :SOURce:VOLT -0.5\n",
      "Sent: :OUTP ON\n",
      "Query: :READ?\n",
      "Beeping at 320 Hz for 0.5 seconds\n",
      "Sent: :SOURce:VOLT 0.0\n",
      "Sent: :OUTP ON\n",
      "Query: :READ?\n",
      "Beeping at 340 Hz for 0.5 seconds\n",
      "Sent: :SOURce:VOLT 0.5\n",
      "Sent: :OUTP ON\n",
      "Query: :READ?\n",
      "Beeping at 360 Hz for 0.5 seconds\n",
      "Sent: :SOURce:VOLT 1.0\n",
      "Sent: :OUTP ON\n",
      "Query: :READ?\n",
      "Beeping at 380 Hz for 0.5 seconds\n",
      "Sent: :SOURce:VOLT 1.5\n",
      "Sent: :OUTP ON\n",
      "Query: :READ?\n",
      "Beeping at 400 Hz for 0.5 seconds\n",
      "Sent: :SOURce:VOLT 1.6\n",
      "Sent: :OUTP ON\n",
      "Query: :READ?\n",
      "Beeping at 420 Hz for 0.5 seconds\n",
      "Sent: :SOURce:VOLT 1.7000000000000002\n",
      "Sent: :OUTP ON\n",
      "Query: :READ?\n",
      "Beeping at 440 Hz for 0.5 seconds\n",
      "Sent: :SOURce:VOLT 1.8000000000000003\n",
      "Sent: :OUTP ON\n",
      "Query: :READ?\n",
      "Beeping at 460 Hz for 0.5 seconds\n",
      "Sent: :SOURce:VOLT 1.9000000000000004\n",
      "Sent: :OUTP ON\n",
      "Query: :READ?\n",
      "Beeping at 480 Hz for 0.5 seconds\n",
      "Sent: :SOURce:VOLT 2.0000000000000004\n",
      "Sent: :OUTP ON\n",
      "Query: :READ?\n",
      "Beeping at 500 Hz for 0.5 seconds\n",
      "Sent: :SOURce:VOLT 2.1000000000000005\n",
      "Sent: :OUTP ON\n",
      "Query: :READ?\n",
      "Beeping at 520 Hz for 0.5 seconds\n",
      "Sent: :OUTP OFF\n"
     ]
    }
   ],
   "source": [
    "KEITHLEY_2470_ADDRESS = 'USB0::0x05E6::0x2470::04625649::INSTR'\n",
    "keithley = Keithley2470(KEITHLEY_2470_ADDRESS)\n",
    "keithley.reset()\n",
    "keithley.beep(500, 0.5)\n",
    "idn = keithley.query(\"*IDN?\")\n",
    "\n",
    "keithley.use_front_terminals()\n",
    "keithley.write(\":SOURce:FUNC VOLT\") # Set device to source voltage\n",
    "keithley.write(\":SENSe:FUNC 'CURR'\") # Set device to measure current\n",
    "keithley.write(\":CURRent:RANGE 0.5\") # Set current range to 0.1 A\n",
    "\n",
    "keithley.write(\":SOURce:VOLT:ILIMIT 0.5\") # Set current limit to 0.1 A\n",
    "# keithley.write(\":CURR:RANGE:AUTO OFF\") # Set current range to auto\n",
    "keithley.write(\":SENSe:CURRent:NPLC 3\") # NLPC means number of power line cycles\n",
    "\n",
    "Voltages = np.arange(-1.0, 1.5, 0.5)\n",
    "Voltages_b = np.arange(1.5, 2.1, 0.1)\n",
    "Voltages = np.concatenate((Voltages, Voltages_b))\n",
    "Currents = np.ones(len(Voltages))\n",
    "print(Voltages)\n",
    "for i, voltage in enumerate(Voltages):\n",
    "    keithley.write(\":SOURce:VOLT {}\".format(voltage))\n",
    "    keithley.write(\":OUTP ON\")\n",
    "    output = keithley.query(\":READ?\")\n",
    "    output = float(output)\n",
    "    Currents[i] = output\n",
    "    # print(f\"Voltage: {voltage} V\")\n",
    "    # print(f\"Output: {output*1e3:.2f} mA\")\n",
    "    time.sleep(0.5)\n",
    "    keithley.beep(300+i*20, 0.5)\n",
    "\n",
    "\n",
    "keithley.write(\":OUTP OFF\")\n",
    "keithley.disconnect()\n"
   ]
  },
  {
   "cell_type": "markdown",
   "metadata": {},
   "source": [
    "### SCPI Commands explained\n",
    "`:TRACE:DATA? 1, 10, 'name' ,READ, REL\"`\n",
    "- `:TRACE:DATA?` is the base command for retrieving data from a reading buffer.\n",
    "- `1, 10` specifies the range of readings to retrieve. In this case, it's requesting readings 1 through 10 from the buffer.\n",
    "- `name` is a placeholder for the actual name of the reading buffer you want to access. You would replace this with the specific buffer name you're using.\n",
    "- `READ, REL` are the data elements being requested:\n",
    "    - `READ` refers to the actual readings stored in the buffer.\n",
    "    - `REL` stands for \"Relative Timestamp,\" which provides the time elapsed between readings.\n",
    "\n",
    "`:TRIG:LOAD \"DurationLoop\", 8, 0.1`\n",
    "- `'DurationLoop', T, dt`\n",
    "- `T` is the total time of the loop\n",
    "- `dt` is the time interval between each reading"
   ]
  },
  {
   "cell_type": "code",
   "execution_count": 51,
   "metadata": {},
   "outputs": [
    {
     "name": "stdout",
     "output_type": "stream",
     "text": [
      "Beeping at 500 Hz for 0.5 seconds\n",
      "Resetting the instrument\n",
      "Sent: :SOURce:FUNC VOLT\n",
      "Sent: :SOUR:VOLT 1.8\n",
      "Sent: :SOUR:VOLT:ILIMIT 0.5\n",
      "Sent: :SENSE:FUNC \"CURR\"\n",
      "Sent: :ROUT:TERM FRON\n",
      "Sent: :CURR:RANG:AUTO ON\n",
      "Sent: :SENSE:CURR:NPLC 1\n",
      "Sent: :TRIG:LOAD \"DurationLoop\", 8, 0.1\n",
      "Sent: :INIT\n",
      "Sent: *WAI\n",
      "Query: :TRACE:ACT? 'defbuffer1'\n",
      "Query: :TRACE:DATA? 10, 45, 'defbuffer1', READ, REL\n",
      "Sent: :SOURCE:VOLT 0\n",
      "Sent: :OUTP ON\n",
      "Sent: :SOURCE:VOLT:DEL 2\n",
      "Sent: :OUTP OFF\n"
     ]
    }
   ],
   "source": [
    "KEITHLEY_2470_ADDRESS = 'USB0::0x05E6::0x2470::04625649::INSTR'\n",
    "keithley = Keithley2470(KEITHLEY_2470_ADDRESS)\n",
    "keithley.beep(500, 0.5)\n",
    "# idn = keithley.query(\"*IDN?\")\n",
    "# print(f\"Connected to: {idn}\")\n",
    "\n",
    "# keithley.write(\"*RST\") # Reset the instrument\n",
    "keithley.reset() # Reset the instrument\n",
    "keithley.write(\":SOURce:FUNC VOLT\") # Set device to source voltage\n",
    "keithley.write(\":SOUR:VOLT 1.8\") # Set voltage to 2.0 V\n",
    "keithley.write(\":SOUR:VOLT:ILIMIT 0.5\") # Set current limit to 0.5 A\n",
    "keithley.write(':SENSE:FUNC \"CURR\"') # Set device to measure current\n",
    "keithley.write(\":ROUT:TERM FRON\") # Use front terminals\n",
    "keithley.write(\":CURR:RANG:AUTO ON\") # Set current range to auto \n",
    "keithley.write(\":SENSE:CURR:NPLC 1\") # NLPC means number of power line cycles\n",
    "\n",
    "# 'DurationLoop', T, dt\n",
    "# T is the total time of the loop\n",
    "# dt is the time interval between each reading\n",
    "\n",
    "keithley.write(':TRIG:LOAD \"DurationLoop\", 8, 0.1') # Load the DurationLoop trigger model \n",
    "time.sleep(1)\n",
    "keithley.write(\":INIT\") # Initialize the trigger model\n",
    "keithley.write(\"*WAI\") # wait for the measurement to finish\n",
    "time.sleep(1)\n",
    "# Query the number of readings in debuffer1 and return the readings and return the readings and time. \n",
    "# 30 is the queried nmber of readings\n",
    "\n",
    "# act is the number of data points in debuffer1\n",
    "act = keithley.query(\":TRACE:ACT? 'defbuffer1'\") # retrieve activation status of debuffer1\n",
    "\n",
    "# data_original = keithley.query(\":TRACE:DATA? 1, 10,'defbuffer1',READ, REL\") # Query the readings in debuffer1\n",
    "data_original = keithley.query(f\":TRACE:DATA? 1, {int(act)}, 'defbuffer1', READ, REL\") # Query the readings in debuffer1\n",
    "#\":TRACE:DATA? 1, 10, 'name' ,READ, REL\"\n",
    "\n",
    "keithley.write(\":SOURCE:VOLT 0\") \n",
    "keithley.write(\":OUTP ON\") # \n",
    "keithley.write(\":SOURCE:VOLT:DEL 2\") # Set the voltage delay to 2 s\n",
    "keithley.write(\":OUTP OFF\")\n"
   ]
  },
  {
   "cell_type": "code",
   "execution_count": 53,
   "metadata": {},
   "outputs": [
    {
     "name": "stdout",
     "output_type": "stream",
     "text": [
      "<class 'str'>\n",
      "act: 45\n",
      "5.692619E-03,1.523825E+00,5.694312E-03,1.693125E+00,5.695987E-03,1.862420E+00,5.697615E-03,2.031715E+00,5.699138E-03,2.201030E+00,5.700798E-03,2.370350E+00,5.702227E-03,2.539656E+00,5.703717E-03,2.708982E+00,5.705094E-03,2.878285E+00,5.706538E-03,3.047609E+00,5.707812E-03,3.216907E+00,5.709130E-03,3.386202E+00,5.710451E-03,3.555508E+00,5.711705E-03,3.724814E+00,5.712936E-03,3.894112E+00,5.714361E-03,4.063402E+00,5.715516E-03,4.232726E+00,5.716809E-03,4.402032E+00,5.717970E-03,4.571319E+00,5.719077E-03,4.740647E+00,5.720359E-03,4.909954E+00,5.721559E-03,5.079266E+00,5.722751E-03,5.248584E+00,5.723835E-03,5.417879E+00,5.725146E-03,5.587205E+00,5.726130E-03,5.756528E+00,5.727241E-03,5.925847E+00,5.728194E-03,6.095146E+00,5.729381E-03,6.264466E+00,5.730474E-03,6.433782E+00,5.731433E-03,6.603103E+00,5.732629E-03,6.772422E+00,5.733611E-03,6.941730E+00,5.734686E-03,7.111039E+00,5.735539E-03,7.280333E+00,5.736546E-03,7.449634E+00\n",
      "['5.692619E-03', '1.523825E+00', '5.694312E-03', '1.693125E+00', '5.695987E-03', '1.862420E+00', '5.697615E-03', '2.031715E+00', '5.699138E-03', '2.201030E+00', '5.700798E-03', '2.370350E+00', '5.702227E-03', '2.539656E+00', '5.703717E-03', '2.708982E+00', '5.705094E-03', '2.878285E+00', '5.706538E-03', '3.047609E+00', '5.707812E-03', '3.216907E+00', '5.709130E-03', '3.386202E+00', '5.710451E-03', '3.555508E+00', '5.711705E-03', '3.724814E+00', '5.712936E-03', '3.894112E+00', '5.714361E-03', '4.063402E+00', '5.715516E-03', '4.232726E+00', '5.716809E-03', '4.402032E+00', '5.717970E-03', '4.571319E+00', '5.719077E-03', '4.740647E+00', '5.720359E-03', '4.909954E+00', '5.721559E-03', '5.079266E+00', '5.722751E-03', '5.248584E+00', '5.723835E-03', '5.417879E+00', '5.725146E-03', '5.587205E+00', '5.726130E-03', '5.756528E+00', '5.727241E-03', '5.925847E+00', '5.728194E-03', '6.095146E+00', '5.729381E-03', '6.264466E+00', '5.730474E-03', '6.433782E+00', '5.731433E-03', '6.603103E+00', '5.732629E-03', '6.772422E+00', '5.733611E-03', '6.941730E+00', '5.734686E-03', '7.111039E+00', '5.735539E-03', '7.280333E+00', '5.736546E-03', '7.449634E+00']\n",
      "72\n",
      "36.0\n"
     ]
    }
   ],
   "source": [
    "print(type(act))\n",
    "print(f\"act: {act}\")\n",
    "print(data_original)\n",
    "data_split = data_original.split(',')\n",
    "print(data_split)\n",
    "print(len(data_split))\n",
    "print(len(data_split)/2)"
   ]
  },
  {
   "cell_type": "code",
   "execution_count": 49,
   "metadata": {},
   "outputs": [],
   "source": [
    "if isinstance(data_original, str):\n",
    "    data = data_original.split(',')\n",
    "    data = [float(i) for i in data]\n",
    "    # organize the data into tuples\n",
    "    data = [data[i:i+2] for i in range(0, len(data), 2)]\n",
    "currents = [entry[0] for entry in data]\n",
    "times = [entry[1] for entry in data]\n",
    "    "
   ]
  },
  {
   "cell_type": "code",
   "execution_count": 50,
   "metadata": {},
   "outputs": [
    {
     "data": {
      "image/png": "[encoded data removed]",
      "text/plain": [
       "<Figure size 640x480 with 1 Axes>"
      ]
     },
     "metadata": {},
     "output_type": "display_data"
    }
   ],
   "source": [
    "import matplotlib.pyplot as plt\n",
    "plt.plot(times, currents, '-o')\n",
    "plt.grid()\n",
    "plt.show()"
   ]
  },
  {
   "cell_type": "code",
   "execution_count": 28,
   "metadata": {},
   "outputs": [],
   "source": [
    "import pyvisa\n",
    "\n",
    "class Instrument:\n",
    "    def __init__(self,\n",
    "                 com_port: str | None = None,\n",
    "                 ip_address: str | None = None,\n",
    "                 tcp_port: int | None = None,\n",
    "                 **kwargs) -> None:\n",
    "        if com_port is not None and ip_address is None and tcp_port is None:\n",
    "            # port_number = ''.join(s for s in com_port if s.isdigit())\n",
    "            # resource_name = f\"ASRL{port_number}::INSTR\"\n",
    "            resource_name = 'USB0::0x05E6::0x2470::04625649::INSTR'\n",
    "\n",
    "        elif ip_address is not None and com_port is None:\n",
    "            if tcp_port is None:\n",
    "                resource_name = f\"TCPIP::{ip_address}::inst0::INSTR\"\n",
    "            else:\n",
    "                resource_name = f\"TCPIP0::{ip_address}::{tcp_port}::SOCKET\"\n",
    "        elif com_port == \"USB\":\n",
    "            # resource_name = 'USB0::0x05E6::0x2470::04625649::INSTR'\n",
    "            resource_name = 'USB0::0x05E6::0x2470::04625649::INSTR'\n",
    "            print(\"connecting through USB\")\n",
    "        else:\n",
    "            raise NameError(\"Invalid arguments: either 'com_port' is given for\"\n",
    "                            \" serial connection or both 'ip_address' and \"\n",
    "                            \"'tcp_port' are given for socket connection.\")\n",
    "        # self._instrument = pyvisa.ResourceManager().open_resource(\n",
    "        #     resource_name=resource_name,\n",
    "        #     write_termination='\\n',\n",
    "        #     read_termination='\\n',\n",
    "        #     **kwargs\n",
    "        #     )\n",
    "        self._instrument = pyvisa.ResourceManager().open_resource(resource_name)\n",
    "\n",
    "        self._check_connection()\n",
    "\n",
    "    def _check_connection(self):\n",
    "        idn = self.query(\"*IDN?\")\n",
    "        if idn:\n",
    "            self._idn = idn\n",
    "            print(f\"Connected to {idn}.\")\n",
    "        else:\n",
    "            self.disconnect()\n",
    "            print(\"Instrument could not be identified.\")\n",
    "\n",
    "    def write(self, command: str) -> None:\n",
    "        self._instrument.write(command)\n",
    "\n",
    "    def query(self, command: str) -> str:\n",
    "        return self._instrument.query(command)\n",
    "\n",
    "    def disconnect(self) -> None:\n",
    "        self._instrument.close()\n"
   ]
  },
  {
   "cell_type": "code",
   "execution_count": 29,
   "metadata": {},
   "outputs": [
    {
     "name": "stdout",
     "output_type": "stream",
     "text": [
      "Connected to KEITHLEY INSTRUMENTS,MODEL 2470,04625649,1.7.14j\n",
      ".\n"
     ]
    }
   ],
   "source": [
    "instrument = Instrument(com_port=\"USB\")\n"
   ]
  },
  {
   "cell_type": "code",
   "execution_count": null,
   "metadata": {},
   "outputs": [],
   "source": []
  }
 ],
 "metadata": {
  "kernelspec": {
   "display_name": "venv",
   "language": "python",
   "name": "python3"
  },
  "language_info": {
   "codemirror_mode": {
    "name": "ipython",
    "version": 3
   },
   "file_extension": ".py",
   "mimetype": "text/x-python",
   "name": "python",
   "nbconvert_exporter": "python",
   "pygments_lexer": "ipython3",
   "version": "3.11.6"
  }
 },
 "nbformat": 4,
 "nbformat_minor": 2
}
